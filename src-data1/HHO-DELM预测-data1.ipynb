{
 "cells": [
  {
   "cell_type": "code",
   "execution_count": 1,
   "id": "00210baf",
   "metadata": {
    "ExecuteTime": {
     "end_time": "2023-02-25T08:16:02.883782Z",
     "start_time": "2023-02-25T08:16:00.742295Z"
    }
   },
   "outputs": [],
   "source": [
    "# 调用相关库\n",
    "import os\n",
    "\n",
    "os.environ['TF_CPP_MIN_LOG_LEVEL'] = '2'\n",
    "import pandas as pd\n",
    "from math import sqrt\n",
    "import random\n",
    "from numpy import concatenate\n",
    "import matplotlib.pyplot as plt\n",
    "import numpy as np\n",
    "from sklearn.metrics import r2_score\n",
    "import scipy as spy\n",
    "from sklearn.preprocessing import MinMaxScaler\n",
    "from sklearn.preprocessing import StandardScaler\n",
    "from sklearn.preprocessing import LabelEncoder\n",
    "from sklearn.metrics import mean_squared_error\n",
    "from sklearn.metrics import mean_squared_error, mean_absolute_error\n",
    "from pandas import DataFrame\n",
    "from pandas import concat\n",
    "import numpy\n",
    "from scipy.io import savemat,loadmat\n",
    "import os \n",
    "import copy\n",
    "import math\n",
    "from scipy.spatial.distance import cdist\n",
    "from numpy import dot, exp"
   ]
  },
  {
   "cell_type": "code",
   "execution_count": 2,
   "id": "54e22111",
   "metadata": {
    "ExecuteTime": {
     "end_time": "2023-02-25T08:16:03.327880Z",
     "start_time": "2023-02-25T08:16:03.307876Z"
    }
   },
   "outputs": [],
   "source": [
    "class DELM(object):\n",
    "\n",
    "    def __init__(self, input_size,hidden_sizes,output_size,C,TF):\n",
    "        # 初始化\n",
    "        '''\n",
    "            input_size:输入层节点数\n",
    "            hidden_sizes:各隐含层节点数，也是各elm-ae的隐含层节点数\n",
    "            output_size:输出层节点数\n",
    "            C ： L2 正则化系数\n",
    "            TF： 激活函数\n",
    "        '''\n",
    "        self._sizes = hidden_sizes\n",
    "        self._l2penalty=C\n",
    "        self.TF=TF \n",
    "        self.elmae=[]\n",
    "        self.w=[]\n",
    "        \n",
    "        for i,size in enumerate(self._sizes + [output_size]):\n",
    "            \n",
    "            # 采样正交随机数进行网络权重初始化\n",
    "            \n",
    "            if input_size>=size:\n",
    "                IW=spy.linalg.orth(np.random.rand(input_size,size)*2-1)\n",
    "            else:\n",
    "                IW=(np.random.rand(input_size,size)*2-1).T\n",
    "                IW=spy.linalg.orth(IW).T\n",
    "            # bias\n",
    "            B=spy.linalg.orth(np.random.rand(size,1)*2-1)\n",
    "            \n",
    "            self.w.append(IW)\n",
    "            \n",
    "            if i< len(self._sizes + [output_size])-1:\n",
    "                weight={'w':IW,'b':B}\n",
    "                self.elmae.append(weight)\n",
    "            \n",
    "            input_size = size\n",
    "    #无监督预训练各个ELM-AE\n",
    "    def pretrain(self,X):\n",
    "        self.elm_ae_weigth_list=[]#保存训练好的elmae的输出层权重 ，用于DELM初始化\n",
    "        nsample=X.shape[0]\n",
    "        for i in range(len(self.elmae)):\n",
    "            IW=self.elmae[i]['w']\n",
    "            B=self.elmae[i]['b']\n",
    "            \n",
    "            bias_matrix=np.tile(B,nsample).T\n",
    "            \n",
    "            tempH = np.dot(X,IW)+bias_matrix\n",
    "            \n",
    "            if self.TF=='sigmoid':\n",
    "                H = 1. / (1. + np.exp(-tempH))\n",
    "                \n",
    "            elif self.TF=='sin':\n",
    "                H=np.sin(tempH)\n",
    "            # cal the output weights by least square method\n",
    "            interval=(np.dot(H.T,H)+np.eye(IW.shape[1])/self._l2penalty)\n",
    "            beta = np.dot(np.dot(np.linalg.pinv(interval) ,H.T),X)\n",
    "            \n",
    "            \n",
    "            W=np.linalg.pinv(beta)\n",
    "            # W = beta.T\n",
    "            self.elm_ae_weigth_list.append(W)\n",
    "            X=X.dot(W)\n",
    "#                \n",
    "    # 将训练好的elm-ae的输出层权重用于初始化delm\n",
    "    def load_from_elm_aes(self):\n",
    "        for i in range(len(self._sizes)):\n",
    "            self.w[i] = self.elm_ae_weigth_list[i]\n",
    "        \n",
    "    # Training delm\n",
    "    def train(self,X,Y):\n",
    "        self.load_from_elm_aes()#注释掉这句 就不会采用训练好的elm-ae输出层权重对delm进行初始化\n",
    "        \n",
    "        \n",
    "        H=[]\n",
    "        input_=X\n",
    "        a=len(self._sizes)\n",
    "        \n",
    "        for i in range(a):\n",
    "            H=np.dot(input_,self.w[i])\n",
    "            input_=H\n",
    "\n",
    "        interval=np.dot(H.T,H)+np.eye(H.shape[1])/self._l2penalty\n",
    "        \n",
    "        beta = np.dot(np.dot(np.linalg.pinv(interval) ,H.T),Y)\n",
    "        \n",
    "        self.w[-1]=beta\n",
    "        \n",
    "    def predict(self,teX):\n",
    "        H=[]\n",
    "        input_=teX\n",
    "        a=len(self.w)\n",
    "        \n",
    "        for i in range(a):\n",
    "            H=np.dot(input_,self.w[i])\n",
    "            input_=H\n",
    "        return H"
   ]
  },
  {
   "cell_type": "code",
   "execution_count": 3,
   "id": "16aebd9c",
   "metadata": {
    "ExecuteTime": {
     "end_time": "2023-02-25T08:16:05.394346Z",
     "start_time": "2023-02-25T08:16:05.363340Z"
    }
   },
   "outputs": [],
   "source": [
    "'''边界检查函数'''\n",
    "def boundary(pop,lb,ub):\n",
    "    pop=pop.flatten()\n",
    "    lb=lb.flatten()\n",
    "    ub=ub.flatten()\n",
    "    \n",
    "    for i in range(len(lb)):\n",
    "        if pop[i]>ub[i] or pop[i]<lb[i]:\n",
    "\n",
    "            pop[i] = (ub[i]-lb[i])*np.random.rand()+lb[i]\n",
    "\n",
    "    return pop\n",
    "\n",
    "\n",
    "''' 种群初始化函数 '''\n",
    "def initial(pop, dim, ub, lb):\n",
    "    X = np.zeros([pop, dim])\n",
    "    lb=lb.flatten()\n",
    "    ub=ub.flatten()\n",
    "    for i in range(pop):\n",
    "        for j in range(dim):\n",
    "            X[i, j] = np.random.rand()*(ub[j] - lb[j]) + lb[j]\n",
    "    \n",
    "    return X\n",
    "\n",
    "\n",
    "'''计算适应度函数'''\n",
    "def CaculateFitness(X,lb,ub,opts,P,T,Pt,Tt):\n",
    "    pop = X.shape[0]\n",
    "    fitness = np.zeros([pop, 1])\n",
    "    for i in range(pop):\n",
    "        X[i, :]=boundary(X[i, :],lb,ub)\n",
    "        fitness[i] = fun(X[i, :],opts,P,T,Pt,Tt)\n",
    "    return fitness\n",
    "\n",
    "'''适应度排序'''\n",
    "def SortFitness(Fit):\n",
    "    fitness = np.sort(Fit, axis=0)\n",
    "    index = np.argsort(Fit, axis=0)\n",
    "    return fitness,index\n",
    "\n",
    "\n",
    "'''根据适应度对位置进行排序'''\n",
    "def SortPosition(X,index):\n",
    "    Xnew = np.zeros(X.shape)\n",
    "    for i in range(X.shape[0]):\n",
    "        Xnew[i,:] = X[index[i],:]\n",
    "    return Xnew\n",
    "\n",
    "'''Levy'''           \n",
    "def Levy(d):\n",
    "     beta = 3/2\n",
    "     sigma = (math.gamma(1+beta)*np.sin(np.pi*beta/2)/(math.gamma((1+beta)/2)*beta*2**((beta -1)/2)))**(1/beta)\n",
    "     u = np.random.randn(1,d)*sigma\n",
    "     v = np.random.randn(1,d)\n",
    "     step = u/(np.abs(v)**(1/beta))\n",
    "     L = 0.01*step\n",
    "     return L \n",
    "\n",
    "    \n",
    "    \n",
    "'''哈里斯鹰优化算法'''\n",
    "def HHO(opts,P,T,Pt,Tt):\n",
    "    MaxIter=100\n",
    "    pop=20\n",
    "\n",
    "    c=-1\n",
    "    d=1\n",
    "    dim=0\n",
    "    nodes_num= [opts['input_size']]+opts['hidden_sizes']# 输入层与隐含层的节点数\n",
    "    \n",
    "    for i in range(len(nodes_num)-1):\n",
    "        dim += nodes_num[i]*nodes_num[i+1]+nodes_num[i+1]\n",
    "    ub=d*np.ones((dim,1))\n",
    "    lb=c*np.ones((dim,1))\n",
    "    X= initial(pop, dim, ub, lb) #初始化种群\n",
    "    fitness = CaculateFitness(X,lb,ub,opts,P,T,Pt,Tt) #计算适应度值\n",
    "    minIndex = np.argmin(fitness)\n",
    "    GbestScore = copy.copy(fitness[minIndex])\n",
    "    GbestPositon = np.zeros([1,dim])\n",
    "    GbestPositon[0,:] = copy.copy(X[minIndex,:])\n",
    "    result = np.zeros([MaxIter,dim])\n",
    "    Curve = np.zeros([MaxIter,1])\n",
    "    for t in range(MaxIter):\n",
    "        E1=2*(1-(t/MaxIter))\n",
    "        for i in range(pop):\n",
    "            E0=2*np.random.random()-1 #[-1,1]\n",
    "            Escaping_Energy = E1*E0\n",
    "            if np.abs(Escaping_Energy)>=1:\n",
    "                q=np.random.random()\n",
    "                rand_Hawk_index = int(pop*np.random.random())\n",
    "                X_rand = np.zeros([1,dim])\n",
    "                X_rand = copy.copy(X[rand_Hawk_index,:])\n",
    "                if q<0.5:\n",
    "                    X[i,:]=X_rand-np.random.random()*np.abs(X_rand-2*np.random.random()*X[i,:])\n",
    "                else:\n",
    "                    XMean = np.sum(X,axis=0)/dim\n",
    "                    X[i,:]=GbestPositon[0,:]-XMean-np.random.random()*((ub.T-lb.T)*np.random.random()+lb.T)\n",
    "            else:\n",
    "                r=np.random.random()\n",
    "                if r>=0.5 and np.abs(Escaping_Energy)<0.5:\n",
    "                    X[i,:]=GbestPositon-Escaping_Energy*np.abs(GbestPositon-X[i,:])\n",
    "                if r>=0.5 and np.abs(Escaping_Energy)>=0.5:\n",
    "                    Jump_strength=2*(1-np.random.random())\n",
    "                    X[i,:]=(GbestPositon-X[i,:])-Escaping_Energy*np.abs(Jump_strength*GbestPositon-X[i,:])\n",
    "                if r<0.5 and np.abs(Escaping_Energy)>=0.5:\n",
    "                    Jump_strength=2*(1-np.random.random())\n",
    "                    X1=GbestPositon-Escaping_Energy*np.abs(Jump_strength*GbestPositon-X[i,:])\n",
    "                    X1=boundary(X1,lb,ub)\n",
    "                    X[i,:]=boundary(X[i,:],lb,ub)\n",
    "                    if fun(X1,opts,P,T,Pt,Tt)<fun(X[i,:],opts,P,T,Pt,Tt):\n",
    "                        X[i,:] = copy.copy(X1)\n",
    "                    else:\n",
    "                        X2=GbestPositon-Escaping_Energy*np.abs(Jump_strength*GbestPositon-X[i,:])+np.random.random()*Levy(dim)\n",
    "                        X2=boundary(X2,lb,ub)\n",
    "                        X[i,:]=boundary(X[i,:],lb,ub)\n",
    "                        if fun(X2,opts,P,T,Pt,Tt)<fun(X[i,:],opts,P,T,Pt,Tt):\n",
    "                            X[i,:] = copy.copy(X2)\n",
    "                if r<0.5 and np.abs(Escaping_Energy)<0.5:\n",
    "                    Jump_strength=2*(1-np.random.random())\n",
    "                    XMean = np.sum(X,axis=0)/dim\n",
    "                    X1=GbestPositon-Escaping_Energy*np.abs(Jump_strength*GbestPositon-XMean)\n",
    "                    X1=boundary(X1,lb,ub)\n",
    "                    X[i,:]=boundary(X[i,:],lb,ub)\n",
    "                    if fun(X1,opts,P,T,Pt,Tt)<fun(X[i,:],opts,P,T,Pt,Tt):\n",
    "                        X[i,:] = copy.copy(X1)\n",
    "                    else:\n",
    "                        X2= GbestPositon-Escaping_Energy*np.abs(Jump_strength*GbestPositon-XMean)+np.random.random()*Levy(dim)\n",
    "                        X2=boundary(X2,lb,ub)\n",
    "                        X[i,:]=boundary(X[i,:],lb,ub)\n",
    "                        if fun(X2,opts,P,T,Pt,Tt)<fun(X[i,:],opts,P,T,Pt,Tt):\n",
    "                            X[i,:] = copy.copy(X2)\n",
    "        for ixx in range(pop):X[ixx,:]=boundary(X[ixx,:],lb,ub)\n",
    "        fitness = CaculateFitness(X,lb,ub,opts,P,T,Pt,Tt) #计算适应度值\n",
    "        minIndex = np.argmin(fitness)\n",
    "        if fitness[minIndex]<GbestScore:\n",
    "            GbestScore = copy.copy(fitness[minIndex])\n",
    "            GbestPositon[0,:] = copy.copy(X[minIndex,:])\n",
    "        \n",
    "        Curve[t] = GbestScore\n",
    "        result[t,:]=GbestPositon\n",
    "        print(('第%d次优化,最优适应度值为%0.4f') % (t + 1, GbestScore))\n",
    "    return GbestPositon,Curve"
   ]
  },
  {
   "cell_type": "code",
   "execution_count": 4,
   "id": "8cec6e68",
   "metadata": {
    "ExecuteTime": {
     "end_time": "2023-02-25T08:16:06.550608Z",
     "start_time": "2023-02-25T08:16:06.540605Z"
    }
   },
   "outputs": [],
   "source": [
    "# 转换成监督数据，将每个特征转换成21列数据，20->1，20组预测一组\n",
    "def series_to_supervised(data, n_in=20, n_out=1, dropnan=True):\n",
    "    n_vars = 1 if type(data) is list else data.shape[1]  #计算特征的数量\n",
    "    df = pd.DataFrame(data)\n",
    "    cols, names = list(), list()\n",
    "    # input sequence (t-n, ... t-1)\n",
    "    # 将20组输入数据依次向下移动20,19,...3,2,1行，将数据加入cols列表（技巧：(n_in, 0, -1)中的-1指倒序循环，步长为1）\n",
    "    for i in range(n_in, 0, -1):\n",
    "        cols.append(df.shift(i))\n",
    "        names += [('var%d(t-%d)' % (j+1, i)) for j in range(n_vars)]\n",
    "    # forecast sequence (t, t+1, ... t+n)\n",
    "    # 将一组输出数据加入cols列表（技巧：其中i=0）\n",
    "    for i in range(0, n_out):\n",
    "        cols.append(df.shift(-i))\n",
    "        if i == 0:\n",
    "            names += [('var%d(t)' % (j+1)) for j in range(n_vars)]\n",
    "        else:\n",
    "            names += [('var%d(t+%d)' % (j+1, i)) for j in range(n_vars)]\n",
    "    # cols列表(list)中现在有21块经过下移后的数据(即：df(-20),df(-19),...df(-2),df(-1),df)，将四块数据按列 并排合并\n",
    "    agg = pd.concat(cols, axis=1)\n",
    "    # 给合并后的数据添加列名\n",
    "    agg.columns = names\n",
    "    # print(agg)\n",
    "    # 删除NaN值列\n",
    "    if dropnan:\n",
    "        agg.dropna(inplace=True)\n",
    "    return agg"
   ]
  },
  {
   "cell_type": "code",
   "execution_count": 5,
   "id": "fd6b8449",
   "metadata": {
    "ExecuteTime": {
     "end_time": "2023-02-25T08:16:07.405801Z",
     "start_time": "2023-02-25T08:16:06.993707Z"
    }
   },
   "outputs": [],
   "source": [
    "values=pd.read_csv('train.csv').values[:5000,-1]\n",
    "values=values.reshape(-1,1)\n",
    "n_features=1 #特征数量"
   ]
  },
  {
   "cell_type": "code",
   "execution_count": 6,
   "id": "f3d5ce3f",
   "metadata": {
    "ExecuteTime": {
     "end_time": "2023-02-25T08:16:07.596844Z",
     "start_time": "2023-02-25T08:16:07.581841Z"
    }
   },
   "outputs": [],
   "source": [
    "# 标准化\n",
    "scaler =StandardScaler()\n",
    "scaled = scaler.fit_transform(values)"
   ]
  },
  {
   "cell_type": "code",
   "execution_count": 7,
   "id": "379da414",
   "metadata": {
    "ExecuteTime": {
     "end_time": "2023-02-25T08:16:08.823120Z",
     "start_time": "2023-02-25T08:16:08.794115Z"
    }
   },
   "outputs": [],
   "source": [
    "n_in = 3\n",
    "n_out = 1\n",
    "# 构造一个20->1的监督学习型数据\n",
    "reframed = series_to_supervised(scaled, n_in=n_in, n_out=n_out)\n",
    "values=reframed.values"
   ]
  },
  {
   "cell_type": "code",
   "execution_count": 8,
   "id": "937d7357",
   "metadata": {
    "ExecuteTime": {
     "end_time": "2023-02-25T08:16:09.364244Z",
     "start_time": "2023-02-25T08:16:09.344239Z"
    }
   },
   "outputs": [
    {
     "name": "stdout",
     "output_type": "stream",
     "text": [
      "(3997, 3) (3997,) (1000, 3) (1000,)\n"
     ]
    }
   ],
   "source": [
    "#训练集和测试集的划分比例\n",
    "ratio=0.8 \n",
    "N=int(len(values) *ratio)\n",
    "train = values[:N, :]\n",
    "test = values[N:, :]\n",
    "\n",
    "# 划分输入和输出,split into input and outputs\n",
    "n_obs = n_in * n_features\n",
    "train_X, train_y = train[:, :-1], train[:, -1]\n",
    "test_X, test_y = test[:, :-1], test[:, -1]\n",
    "print(train_X.shape, train_y.shape, test_X.shape, test_y.shape)"
   ]
  },
  {
   "cell_type": "code",
   "execution_count": 9,
   "id": "2db69553",
   "metadata": {
    "ExecuteTime": {
     "end_time": "2023-02-25T08:16:09.823347Z",
     "start_time": "2023-02-25T08:16:09.809343Z"
    }
   },
   "outputs": [
    {
     "data": {
      "text/plain": [
       "(3997, 1)"
      ]
     },
     "execution_count": 9,
     "metadata": {},
     "output_type": "execute_result"
    }
   ],
   "source": [
    "train_y=train_y.reshape(-1,1)\n",
    "train_y.shape"
   ]
  },
  {
   "cell_type": "code",
   "execution_count": 10,
   "id": "c1c7e88b",
   "metadata": {
    "ExecuteTime": {
     "end_time": "2023-02-25T08:16:11.477759Z",
     "start_time": "2023-02-25T08:16:11.465757Z"
    }
   },
   "outputs": [],
   "source": [
    "def fun(pop,opts,P,T,Pt,Tt):\n",
    "    #对麻雀传人的参数进行解码\n",
    "    Net = DELM(opts['input_size'],opts['hidden_sizes'], opts['output_size'], opts['C'],opts['TF']) #construct a delm\n",
    "    \n",
    "    nodes= [opts['input_size']]+opts['hidden_sizes']# 输入层与隐含层的节点数\n",
    "\n",
    "    nelmae=len(nodes)-1\n",
    "    para_num=[]\n",
    "    \n",
    "    for i in range(nelmae):\n",
    "        if i==0:\n",
    "            para_num += [nodes[i]*nodes[i+1]]\n",
    "        else:\n",
    "            para_num += [para_num[-1]+nodes[i]*nodes[i+1]]\n",
    "        para_num += [para_num[-1]+nodes[i+1]]\n",
    "    \n",
    "    for i in range(nelmae):\n",
    "        if i==0:\n",
    "            IW=pop[0:para_num[i]]\n",
    "            b=pop[para_num[i]:para_num[i+1]]\n",
    "        else:\n",
    "            IW=pop[para_num[2*i-1]:para_num[2*i]]\n",
    "            b=pop[para_num[2*i]:para_num[2*i+1]]\n",
    "        \n",
    "        if nodes[i]>=nodes[i+1]:\n",
    "            Net.elmae[i]['w']=spy.linalg.orth(IW.reshape(nodes[i],nodes[i+1]))\n",
    "        else:\n",
    "            Net.elmae[i]['w']=spy.linalg.orth(IW.reshape(nodes[i],nodes[i+1]).T).T\n",
    "        Net.elmae[i]['b']=spy.linalg.orth(b.reshape(-1,1))\n",
    "\n",
    "\n",
    "        \n",
    "    Net.pretrain(P)\n",
    "    Net.train(P,T)\n",
    "    output=Net.predict(Pt)\n",
    "    output1=output.reshape(-1,)\n",
    "    Tt1=Tt.reshape(-1,)\n",
    "    fit=np.mean(np.square(output1-Tt1))\n",
    "    \n",
    "    return fit"
   ]
  },
  {
   "cell_type": "code",
   "execution_count": 11,
   "id": "9bf6cd3c",
   "metadata": {
    "ExecuteTime": {
     "end_time": "2023-02-25T08:16:27.272071Z",
     "start_time": "2023-02-25T08:16:17.282070Z"
    },
    "scrolled": true
   },
   "outputs": [
    {
     "name": "stdout",
     "output_type": "stream",
     "text": [
      "第1次优化,最优适应度值为0.8939\n",
      "第2次优化,最优适应度值为0.8939\n",
      "第3次优化,最优适应度值为0.8939\n",
      "第4次优化,最优适应度值为0.8939\n",
      "第5次优化,最优适应度值为0.8939\n",
      "第6次优化,最优适应度值为0.8939\n",
      "第7次优化,最优适应度值为0.8939\n",
      "第8次优化,最优适应度值为0.8939\n",
      "第9次优化,最优适应度值为0.8939\n",
      "第10次优化,最优适应度值为0.8939\n",
      "第11次优化,最优适应度值为0.8939\n",
      "第12次优化,最优适应度值为0.8939\n",
      "第13次优化,最优适应度值为0.8939\n",
      "第14次优化,最优适应度值为0.8939\n",
      "第15次优化,最优适应度值为0.8939\n",
      "第16次优化,最优适应度值为0.8939\n",
      "第17次优化,最优适应度值为0.8939\n",
      "第18次优化,最优适应度值为0.8939\n",
      "第19次优化,最优适应度值为0.8939\n",
      "第20次优化,最优适应度值为0.8939\n",
      "第21次优化,最优适应度值为0.8939\n",
      "第22次优化,最优适应度值为0.8939\n",
      "第23次优化,最优适应度值为0.8939\n",
      "第24次优化,最优适应度值为0.8939\n",
      "第25次优化,最优适应度值为0.8939\n",
      "第26次优化,最优适应度值为0.8939\n",
      "第27次优化,最优适应度值为0.8921\n",
      "第28次优化,最优适应度值为0.8921\n",
      "第29次优化,最优适应度值为0.8921\n",
      "第30次优化,最优适应度值为0.8921\n",
      "第31次优化,最优适应度值为0.8921\n",
      "第32次优化,最优适应度值为0.8921\n",
      "第33次优化,最优适应度值为0.8921\n",
      "第34次优化,最优适应度值为0.8921\n",
      "第35次优化,最优适应度值为0.8921\n",
      "第36次优化,最优适应度值为0.8921\n",
      "第37次优化,最优适应度值为0.8921\n",
      "第38次优化,最优适应度值为0.8921\n",
      "第39次优化,最优适应度值为0.8921\n",
      "第40次优化,最优适应度值为0.8921\n",
      "第41次优化,最优适应度值为0.8921\n",
      "第42次优化,最优适应度值为0.8921\n",
      "第43次优化,最优适应度值为0.8921\n",
      "第44次优化,最优适应度值为0.8921\n",
      "第45次优化,最优适应度值为0.8921\n",
      "第46次优化,最优适应度值为0.8921\n",
      "第47次优化,最优适应度值为0.8921\n",
      "第48次优化,最优适应度值为0.8921\n",
      "第49次优化,最优适应度值为0.8921\n",
      "第50次优化,最优适应度值为0.8921\n",
      "第51次优化,最优适应度值为0.8921\n",
      "第52次优化,最优适应度值为0.8921\n",
      "第53次优化,最优适应度值为0.8921\n",
      "第54次优化,最优适应度值为0.8921\n",
      "第55次优化,最优适应度值为0.8921\n",
      "第56次优化,最优适应度值为0.8921\n",
      "第57次优化,最优适应度值为0.8921\n",
      "第58次优化,最优适应度值为0.8921\n",
      "第59次优化,最优适应度值为0.8921\n",
      "第60次优化,最优适应度值为0.8921\n",
      "第61次优化,最优适应度值为0.8921\n",
      "第62次优化,最优适应度值为0.8921\n",
      "第63次优化,最优适应度值为0.8921\n",
      "第64次优化,最优适应度值为0.8921\n",
      "第65次优化,最优适应度值为0.8921\n",
      "第66次优化,最优适应度值为0.8921\n",
      "第67次优化,最优适应度值为0.8921\n",
      "第68次优化,最优适应度值为0.8921\n",
      "第69次优化,最优适应度值为0.8921\n",
      "第70次优化,最优适应度值为0.8921\n",
      "第71次优化,最优适应度值为0.8921\n",
      "第72次优化,最优适应度值为0.8921\n",
      "第73次优化,最优适应度值为0.8921\n",
      "第74次优化,最优适应度值为0.8921\n",
      "第75次优化,最优适应度值为0.8921\n",
      "第76次优化,最优适应度值为0.8921\n",
      "第77次优化,最优适应度值为0.8921\n",
      "第78次优化,最优适应度值为0.8921\n",
      "第79次优化,最优适应度值为0.8921\n",
      "第80次优化,最优适应度值为0.8921\n",
      "第81次优化,最优适应度值为0.8921\n",
      "第82次优化,最优适应度值为0.8921\n",
      "第83次优化,最优适应度值为0.8921\n",
      "第84次优化,最优适应度值为0.8921\n",
      "第85次优化,最优适应度值为0.8921\n",
      "第86次优化,最优适应度值为0.8921\n",
      "第87次优化,最优适应度值为0.8921\n",
      "第88次优化,最优适应度值为0.8921\n",
      "第89次优化,最优适应度值为0.8921\n",
      "第90次优化,最优适应度值为0.8921\n",
      "第91次优化,最优适应度值为0.8921\n",
      "第92次优化,最优适应度值为0.8921\n",
      "第93次优化,最优适应度值为0.8921\n",
      "第94次优化,最优适应度值为0.8921\n",
      "第95次优化,最优适应度值为0.8921\n",
      "第96次优化,最优适应度值为0.8921\n",
      "第97次优化,最优适应度值为0.8921\n",
      "第98次优化,最优适应度值为0.8921\n",
      "第99次优化,最优适应度值为0.8921\n",
      "第100次优化,最优适应度值为0.8921\n"
     ]
    },
    {
     "data": {
      "text/plain": [
       "Text(0.5, 0, 'iteration')"
      ]
     },
     "execution_count": 11,
     "metadata": {},
     "output_type": "execute_result"
    },
    {
     "data": {
      "image/png": "[encoded data removed]",
      "text/plain": [
       "<Figure size 432x288 with 1 Axes>"
      ]
     },
     "metadata": {
      "needs_background": "light"
     },
     "output_type": "display_data"
    }
   ],
   "source": [
    "# In[] 参数设置\n",
    "hidden_sizes = [7,5]  #几个数就是几个隐含层，n个隐含层各自的节点就是[n1;n2;n3;n4;....nn]\n",
    "input_size = train_X.shape[1] #输入层节点数\n",
    "output_size= train_y.shape[1]#输出层节点数\n",
    "C=np.inf#L2正则化系数\n",
    "TF='sigmoid'#激活函数\n",
    "opts={'hidden_sizes':hidden_sizes,'input_size':input_size,'output_size':output_size,'C':C,'TF':TF}\n",
    "pop,trace=HHO(opts,train_X,train_y,test_X, test_y)\n",
    "plt.figure()\n",
    "plt.plot(trace)\n",
    "plt.title('fitness curve')\n",
    "plt.ylabel('fitness value/error')\n",
    "plt.xlabel('iteration')"
   ]
  },
  {
   "cell_type": "code",
   "execution_count": 12,
   "id": "c60a3219",
   "metadata": {
    "ExecuteTime": {
     "end_time": "2023-02-25T08:16:27.288074Z",
     "start_time": "2023-02-25T08:16:27.273071Z"
    }
   },
   "outputs": [],
   "source": [
    "# In[3]: 训练\n",
    "Net = DELM(input_size,hidden_sizes, output_size, C,TF) #construct a delm\n",
    "\n",
    "x=pop.flatten().copy()\n",
    "#对麻雀传人的参数进行解码\n",
    "\n",
    "nodes= [input_size]+hidden_sizes# 输入层与隐含层的节点数\n",
    " \n",
    "nelmae=len(nodes)-1\n",
    "\n",
    "para_num=[]\n",
    "\n",
    "for i in range(nelmae):\n",
    "    if i==0:\n",
    "        para_num += [nodes[i]*nodes[i+1]]\n",
    "    else:\n",
    "        para_num += [para_num[-1]+nodes[i]*nodes[i+1]]\n",
    "    para_num += [para_num[-1]+nodes[i+1]]\n",
    "\n",
    "for i in range(nelmae):\n",
    "    if i==0:\n",
    "        IW=x[0:para_num[i]]\n",
    "        b=x[para_num[i]:para_num[i+1]]\n",
    "    else:\n",
    "        IW=x[para_num[2*i-1]:para_num[2*i]]\n",
    "        b=x[para_num[2*i]:para_num[2*i+1]]\n",
    "    \n",
    "    if nodes[i]>=nodes[i+1]:\n",
    "        Net.elmae[i]['w']=spy.linalg.orth(IW.reshape(nodes[i],nodes[i+1]))\n",
    "    else:\n",
    "        Net.elmae[i]['w']=spy.linalg.orth(IW.reshape(nodes[i],nodes[i+1]).T).T\n",
    "    Net.elmae[i]['b']=spy.linalg.orth(b.reshape(-1,1))"
   ]
  },
  {
   "cell_type": "code",
   "execution_count": 13,
   "id": "ac69a707",
   "metadata": {
    "ExecuteTime": {
     "end_time": "2023-02-25T08:16:27.304077Z",
     "start_time": "2023-02-25T08:16:27.290075Z"
    }
   },
   "outputs": [],
   "source": [
    "Net.pretrain(train_X)#train elmae\n",
    "Net.train(train_X,train_y)#train delm"
   ]
  },
  {
   "cell_type": "code",
   "execution_count": 14,
   "id": "2aef0140",
   "metadata": {
    "ExecuteTime": {
     "end_time": "2023-02-25T08:16:27.320081Z",
     "start_time": "2023-02-25T08:16:27.305078Z"
    }
   },
   "outputs": [],
   "source": [
    "#预测\n",
    "yhat = Net.predict(test_X)\n",
    "yhat=yhat.reshape(-1,1)\n",
    "# 对预测结果进行反归一化\n",
    "inv_yhat = scaler.inverse_transform(yhat)\n",
    "# 将真实列据进行反归一化\n",
    "test_y=test_y.reshape(-1,1)\n",
    "inv_y = scaler.inverse_transform(test_y)"
   ]
  },
  {
   "cell_type": "code",
   "execution_count": 15,
   "id": "6847a89b",
   "metadata": {
    "ExecuteTime": {
     "end_time": "2023-02-25T08:16:27.876207Z",
     "start_time": "2023-02-25T08:16:27.859203Z"
    }
   },
   "outputs": [
    {
     "name": "stdout",
     "output_type": "stream",
     "text": [
      "Test RMSE: 15.5072563\n",
      "Test MAE: 12.3932167\n",
      "Test R2: 0.0236045\n"
     ]
    }
   ],
   "source": [
    "# 计算RMSE\n",
    "rmse = sqrt(mean_squared_error(inv_y, inv_yhat))\n",
    "print('Test RMSE: %.7f' % rmse)\n",
    "print('Test MAE: %.7f' % mean_absolute_error(inv_y, inv_yhat))\n",
    "print('Test R2: %.7f' % r2_score(inv_y, inv_yhat))"
   ]
  },
  {
   "cell_type": "code",
   "execution_count": null,
   "id": "5a9345e8",
   "metadata": {
    "ExecuteTime": {
     "end_time": "2023-02-25T07:33:30.277550Z",
     "start_time": "2023-02-25T07:33:28.673341Z"
    }
   },
   "outputs": [],
   "source": [
    "import seaborn as sns\n",
    "%config InlineBackend.figure_format = 'retina'\n",
    "plt.rcParams['font.sans-serif']=['Simhei']  #解决画图中文不显示问题\n",
    "plt.figure(figsize=(6,4),dpi=600)\n",
    "x=range(1, len(inv_y) + 1)\n",
    "plt.xticks(x[::50])\n",
    "plt.tick_params(labelsize=10)  #改变刻度字体大小\n",
    "plt.plot(x, inv_y, linestyle=\"--\",color='g',linewidth=1, label='Acture')\n",
    "plt.plot(x, inv_yhat,  color='red',linestyle=\"--\",linewidth=1,label='HHO-DELM')\n",
    "plt.rcParams.update({'font.size': 10})  #改变图例里面的字体大小\n",
    "plt.legend(loc='upper right')\n",
    "plt.xlabel(\"样本点\",fontsize=10)\n",
    "plt.ylabel(\"值\",fontsize=10)\n",
    "# plt.xlim(xmin=600,xmax=700)  #显示600-1000的值   局部放大有利于观察\n",
    "# plt.savefig('台湾VMD-LSTM震级预测结果图.png')\n",
    "plt.show()"
   ]
  },
  {
   "cell_type": "code",
   "execution_count": null,
   "id": "4ef5ce0c",
   "metadata": {
    "ExecuteTime": {
     "end_time": "2022-11-15T14:20:47.112880Z",
     "start_time": "2022-11-15T14:20:47.105880Z"
    }
   },
   "outputs": [],
   "source": [
    "#保存预测结果\n",
    "# savemat('hho-delm_result.mat',{'true':inv_y,'pred':inv_yhat})"
   ]
  },
  {
   "cell_type": "code",
   "execution_count": null,
   "id": "96e20b37",
   "metadata": {},
   "outputs": [],
   "source": []
  }
 ],
 "metadata": {
  "kernelspec": {
   "display_name": "Python 3",
   "language": "python",
   "name": "python3"
  },
  "language_info": {
   "codemirror_mode": {
    "name": "ipython",
    "version": 3
   },
   "file_extension": ".py",
   "mimetype": "text/x-python",
   "name": "python",
   "nbconvert_exporter": "python",
   "pygments_lexer": "ipython3",
   "version": "3.8.8"
  }
 },
 "nbformat": 4,
 "nbformat_minor": 5
}
