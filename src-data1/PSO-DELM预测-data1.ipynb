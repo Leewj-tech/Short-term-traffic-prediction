{
 "cells": [
  {
   "cell_type": "code",
   "execution_count": 1,
   "id": "00210baf",
   "metadata": {
    "ExecuteTime": {
     "end_time": "2023-02-25T08:28:01.563487Z",
     "start_time": "2023-02-25T08:27:59.420001Z"
    }
   },
   "outputs": [],
   "source": [
    "# 调用相关库\n",
    "import os\n",
    "\n",
    "os.environ['TF_CPP_MIN_LOG_LEVEL'] = '2'\n",
    "import pandas as pd\n",
    "from math import sqrt\n",
    "import random\n",
    "from numpy import concatenate\n",
    "import matplotlib.pyplot as plt\n",
    "import numpy as np\n",
    "from sklearn.metrics import r2_score\n",
    "import scipy as spy\n",
    "from sklearn.preprocessing import MinMaxScaler\n",
    "from sklearn.preprocessing import StandardScaler\n",
    "from sklearn.preprocessing import LabelEncoder\n",
    "from sklearn.metrics import mean_squared_error\n",
    "from sklearn.metrics import mean_squared_error, mean_absolute_error\n",
    "from pandas import DataFrame\n",
    "from pandas import concat\n",
    "import numpy\n",
    "from scipy.io import savemat,loadmat\n",
    "import os \n",
    "import copy\n",
    "import math\n",
    "from scipy.spatial.distance import cdist\n",
    "from numpy import dot, exp"
   ]
  },
  {
   "cell_type": "code",
   "execution_count": 2,
   "id": "54e22111",
   "metadata": {
    "ExecuteTime": {
     "end_time": "2023-02-25T08:28:01.579489Z",
     "start_time": "2023-02-25T08:28:01.564486Z"
    }
   },
   "outputs": [],
   "source": [
    "class DELM(object):\n",
    "\n",
    "    def __init__(self, input_size,hidden_sizes,output_size,C,TF):\n",
    "        # 初始化\n",
    "        '''\n",
    "            input_size:输入层节点数\n",
    "            hidden_sizes:各隐含层节点数，也是各elm-ae的隐含层节点数\n",
    "            output_size:输出层节点数\n",
    "            C ： L2 正则化系数\n",
    "            TF： 激活函数\n",
    "        '''\n",
    "        self._sizes = hidden_sizes\n",
    "        self._l2penalty=C\n",
    "        self.TF=TF \n",
    "        self.elmae=[]\n",
    "        self.w=[]\n",
    "        \n",
    "        for i,size in enumerate(self._sizes + [output_size]):\n",
    "            \n",
    "            # 采样正交随机数进行网络权重初始化\n",
    "            \n",
    "            if input_size>=size:\n",
    "                IW=spy.linalg.orth(np.random.rand(input_size,size)*2-1)\n",
    "            else:\n",
    "                IW=(np.random.rand(input_size,size)*2-1).T\n",
    "                IW=spy.linalg.orth(IW).T\n",
    "            # bias\n",
    "            B=spy.linalg.orth(np.random.rand(size,1)*2-1)\n",
    "            \n",
    "            self.w.append(IW)\n",
    "            \n",
    "            if i< len(self._sizes + [output_size])-1:\n",
    "                weight={'w':IW,'b':B}\n",
    "                self.elmae.append(weight)\n",
    "            \n",
    "            input_size = size\n",
    "    #无监督预训练各个ELM-AE\n",
    "    def pretrain(self,X):\n",
    "        self.elm_ae_weigth_list=[]#保存训练好的elmae的输出层权重 ，用于DELM初始化\n",
    "        nsample=X.shape[0]\n",
    "        for i in range(len(self.elmae)):\n",
    "            IW=self.elmae[i]['w']\n",
    "            B=self.elmae[i]['b']\n",
    "            \n",
    "            bias_matrix=np.tile(B,nsample).T\n",
    "            \n",
    "            tempH = np.dot(X,IW)+bias_matrix\n",
    "            \n",
    "            if self.TF=='sigmoid':\n",
    "                H = 1. / (1. + np.exp(-tempH))\n",
    "                \n",
    "            elif self.TF=='sin':\n",
    "                H=np.sin(tempH)\n",
    "            # cal the output weights by least square method\n",
    "            interval=(np.dot(H.T,H)+np.eye(IW.shape[1])/self._l2penalty)\n",
    "            beta = np.dot(np.dot(np.linalg.pinv(interval) ,H.T),X)\n",
    "            \n",
    "            \n",
    "            W=np.linalg.pinv(beta)\n",
    "            # W = beta.T\n",
    "            self.elm_ae_weigth_list.append(W)\n",
    "            X=X.dot(W)\n",
    "#                \n",
    "    # 将训练好的elm-ae的输出层权重用于初始化delm\n",
    "    def load_from_elm_aes(self):\n",
    "        for i in range(len(self._sizes)):\n",
    "            self.w[i] = self.elm_ae_weigth_list[i]\n",
    "        \n",
    "    # Training delm\n",
    "    def train(self,X,Y):\n",
    "        self.load_from_elm_aes()#注释掉这句 就不会采用训练好的elm-ae输出层权重对delm进行初始化\n",
    "        \n",
    "        \n",
    "        H=[]\n",
    "        input_=X\n",
    "        a=len(self._sizes)\n",
    "        \n",
    "        for i in range(a):\n",
    "            H=np.dot(input_,self.w[i])\n",
    "            input_=H\n",
    "\n",
    "        interval=np.dot(H.T,H)+np.eye(H.shape[1])/self._l2penalty\n",
    "        \n",
    "        beta = np.dot(np.dot(np.linalg.pinv(interval) ,H.T),Y)\n",
    "        \n",
    "        self.w[-1]=beta\n",
    "        \n",
    "    def predict(self,teX):\n",
    "        H=[]\n",
    "        input_=teX\n",
    "        a=len(self.w)\n",
    "        \n",
    "        for i in range(a):\n",
    "            H=np.dot(input_,self.w[i])\n",
    "            input_=H\n",
    "        return H"
   ]
  },
  {
   "cell_type": "code",
   "execution_count": 3,
   "id": "16aebd9c",
   "metadata": {
    "ExecuteTime": {
     "end_time": "2023-02-25T08:28:01.595493Z",
     "start_time": "2023-02-25T08:28:01.580489Z"
    }
   },
   "outputs": [],
   "source": [
    "def Bounds(x,lb,ub,dim):\n",
    "    temp = x.copy()\n",
    "    for i in range(dim):\n",
    "        if temp[i]>=ub[i] or temp[i]<=lb[i]:\n",
    "            temp[i] = (ub[i]-lb[i])*np.random.rand()+lb[i]\n",
    "    return temp\n",
    "\n",
    "\n",
    "def PSO(opts,P,T,Pt,Tt):\n",
    "    max_iter=100# 迭代次数\n",
    "    pN=20#\n",
    "    c = -1\n",
    "    d = 1\n",
    "    dim = 0\n",
    "    nodes_num = [opts['input_size']] + opts['hidden_sizes']  # 输入层与隐含层的节点数\n",
    "\n",
    "    for i in range(len(nodes_num) - 1):\n",
    "        dim += nodes_num[i] * nodes_num[i + 1] + nodes_num[i + 1]\n",
    "    xmax = d * np.ones((dim, 1))\n",
    "    xmin = c * np.ones((dim, 1))\n",
    "    # pN 粒子数量\n",
    "    # dim 搜索维度\n",
    "    # max_iter 迭代次数\n",
    "    #PSO参数设置\n",
    "    w  = 1.5;c1 = 0.5;c2 = 0.5;r1 = 1.3;r2 = 1.3    \n",
    "    #初始化\n",
    "    X = np.zeros((pN,dim))       #所有粒子的位置和速度    \n",
    "    V = np.zeros((pN,dim))    \n",
    "    pbest = np.zeros((pN,dim))   #个体经历的最佳位置和全局最佳位置    \n",
    "    gbest = np.zeros((1,dim))   \n",
    "    p_fit = np.zeros(pN)              #每个个体的历史最佳适应值    \n",
    "    fit = np.inf  \n",
    "    for i in range(pN):    \n",
    "        for j in range(dim):    \n",
    "            X[i][j] = (xmax[j]-xmin[j])*np.random.rand() + xmin[j]\n",
    "            V[i][j] = np.random.rand() \n",
    "        pbest[i] = X[i,:].copy()\n",
    "        tmp = fun( X[ i, : ] ,opts,P,T,Pt,Tt)\n",
    "        p_fit[i] = tmp.copy()\n",
    "        if(tmp < fit):    \n",
    "            fit = tmp.copy()    \n",
    "            gbest = X[i].copy()        \n",
    "    fitness = []    \n",
    "    # 开始循环迭代\n",
    "    for t in range(max_iter):  \n",
    "        #种群位置与速度更新\n",
    "        for i in range(pN):  \n",
    "            r1=np.random.rand()\n",
    "            r2=np.random.rand()\n",
    "            V[i,:] = w*V[i,:] + c1*r1*(pbest[i,:] - X[i,:])+c2*r2*(gbest - X[i,:])    \n",
    "            for jj in range(V.shape[1]): \n",
    "                if V[i,jj]<0 or V[i,jj]>1:\n",
    "                    V[i,jj]=np.random.rand()\n",
    "            X[i,:] = X[i,:] + V[i,:]\n",
    "            \n",
    "\n",
    "        for i in range(pN): #更新gbest\\pbest\n",
    "            X[i,:]=Bounds(X[i,:],xmin,xmax,dim);\n",
    "            temp = fun(X[i,:],opts,P,T,Pt,Tt)  \n",
    "            if(temp < p_fit[i]):      #更新个体最优    \n",
    "                p_fit[i] = temp.copy()    \n",
    "                pbest[i,:] = X[i,:].copy()    \n",
    "            if(p_fit[i] < fit):  #更新全局最优    \n",
    "                gbest = pbest[i,:].copy()    \n",
    "                fit = p_fit[i].copy()    \n",
    "\n",
    "        fitness.append(fit)  \n",
    "        print(t+1,\":\",fit)\n",
    "    return gbest,fitness "
   ]
  },
  {
   "cell_type": "code",
   "execution_count": 4,
   "id": "8cec6e68",
   "metadata": {
    "ExecuteTime": {
     "end_time": "2023-02-25T08:28:01.611496Z",
     "start_time": "2023-02-25T08:28:01.596493Z"
    }
   },
   "outputs": [],
   "source": [
    "# 转换成监督数据，将每个特征转换成21列数据，20->1，20组预测一组\n",
    "def series_to_supervised(data, n_in=20, n_out=1, dropnan=True):\n",
    "    n_vars = 1 if type(data) is list else data.shape[1]  #计算特征的数量\n",
    "    df = pd.DataFrame(data)\n",
    "    cols, names = list(), list()\n",
    "    # input sequence (t-n, ... t-1)\n",
    "    # 将20组输入数据依次向下移动20,19,...3,2,1行，将数据加入cols列表（技巧：(n_in, 0, -1)中的-1指倒序循环，步长为1）\n",
    "    for i in range(n_in, 0, -1):\n",
    "        cols.append(df.shift(i))\n",
    "        names += [('var%d(t-%d)' % (j+1, i)) for j in range(n_vars)]\n",
    "    # forecast sequence (t, t+1, ... t+n)\n",
    "    # 将一组输出数据加入cols列表（技巧：其中i=0）\n",
    "    for i in range(0, n_out):\n",
    "        cols.append(df.shift(-i))\n",
    "        if i == 0:\n",
    "            names += [('var%d(t)' % (j+1)) for j in range(n_vars)]\n",
    "        else:\n",
    "            names += [('var%d(t+%d)' % (j+1, i)) for j in range(n_vars)]\n",
    "    # cols列表(list)中现在有21块经过下移后的数据(即：df(-20),df(-19),...df(-2),df(-1),df)，将四块数据按列 并排合并\n",
    "    agg = pd.concat(cols, axis=1)\n",
    "    # 给合并后的数据添加列名\n",
    "    agg.columns = names\n",
    "    # print(agg)\n",
    "    # 删除NaN值列\n",
    "    if dropnan:\n",
    "        agg.dropna(inplace=True)\n",
    "    return agg"
   ]
  },
  {
   "cell_type": "code",
   "execution_count": 5,
   "id": "fd6b8449",
   "metadata": {
    "ExecuteTime": {
     "end_time": "2023-02-25T08:28:02.039593Z",
     "start_time": "2023-02-25T08:28:01.612497Z"
    }
   },
   "outputs": [],
   "source": [
    "values=pd.read_csv('train.csv').values[:5000,-1]\n",
    "values=values.reshape(-1,1)\n",
    "n_features=1 #特征数量"
   ]
  },
  {
   "cell_type": "code",
   "execution_count": 6,
   "id": "f3d5ce3f",
   "metadata": {
    "ExecuteTime": {
     "end_time": "2023-02-25T08:28:02.054596Z",
     "start_time": "2023-02-25T08:28:02.041595Z"
    }
   },
   "outputs": [],
   "source": [
    "# 标准化\n",
    "scaler =StandardScaler()\n",
    "scaled = scaler.fit_transform(values)"
   ]
  },
  {
   "cell_type": "code",
   "execution_count": 7,
   "id": "379da414",
   "metadata": {
    "ExecuteTime": {
     "end_time": "2023-02-25T08:28:02.733749Z",
     "start_time": "2023-02-25T08:28:02.696741Z"
    }
   },
   "outputs": [],
   "source": [
    "n_in = 3\n",
    "n_out = 1\n",
    "# 构造一个20->1的监督学习型数据\n",
    "reframed = series_to_supervised(scaled, n_in=n_in, n_out=n_out)\n",
    "values=reframed.values"
   ]
  },
  {
   "cell_type": "code",
   "execution_count": 8,
   "id": "937d7357",
   "metadata": {
    "ExecuteTime": {
     "end_time": "2023-02-25T08:28:03.158850Z",
     "start_time": "2023-02-25T08:28:03.139846Z"
    }
   },
   "outputs": [
    {
     "name": "stdout",
     "output_type": "stream",
     "text": [
      "(3997, 3) (3997,) (1000, 3) (1000,)\n"
     ]
    }
   ],
   "source": [
    "#训练集和测试集的划分比例\n",
    "ratio=0.8 \n",
    "N=int(len(values) *ratio)\n",
    "train = values[:N, :]\n",
    "test = values[N:, :]\n",
    "\n",
    "# 划分输入和输出,split into input and outputs\n",
    "n_obs = n_in * n_features\n",
    "train_X, train_y = train[:, :-1], train[:, -1]\n",
    "test_X, test_y = test[:, :-1], test[:, -1]\n",
    "print(train_X.shape, train_y.shape, test_X.shape, test_y.shape)"
   ]
  },
  {
   "cell_type": "code",
   "execution_count": 9,
   "id": "2db69553",
   "metadata": {
    "ExecuteTime": {
     "end_time": "2023-02-25T08:28:03.695972Z",
     "start_time": "2023-02-25T08:28:03.688971Z"
    }
   },
   "outputs": [
    {
     "data": {
      "text/plain": [
       "(3997, 1)"
      ]
     },
     "execution_count": 9,
     "metadata": {},
     "output_type": "execute_result"
    }
   ],
   "source": [
    "train_y=train_y.reshape(-1,1)\n",
    "train_y.shape"
   ]
  },
  {
   "cell_type": "code",
   "execution_count": 10,
   "id": "c1c7e88b",
   "metadata": {
    "ExecuteTime": {
     "end_time": "2023-02-25T08:28:04.452142Z",
     "start_time": "2023-02-25T08:28:04.432138Z"
    }
   },
   "outputs": [],
   "source": [
    "def fun(pop,opts,P,T,Pt,Tt):\n",
    "    #对麻雀传人的参数进行解码\n",
    "    Net = DELM(opts['input_size'],opts['hidden_sizes'], opts['output_size'], opts['C'],opts['TF']) #construct a delm\n",
    "    \n",
    "    nodes= [opts['input_size']]+opts['hidden_sizes']# 输入层与隐含层的节点数\n",
    "\n",
    "    nelmae=len(nodes)-1\n",
    "    para_num=[]\n",
    "    \n",
    "    for i in range(nelmae):\n",
    "        if i==0:\n",
    "            para_num += [nodes[i]*nodes[i+1]]\n",
    "        else:\n",
    "            para_num += [para_num[-1]+nodes[i]*nodes[i+1]]\n",
    "        para_num += [para_num[-1]+nodes[i+1]]\n",
    "    \n",
    "    for i in range(nelmae):\n",
    "        if i==0:\n",
    "            IW=pop[0:para_num[i]]\n",
    "            b=pop[para_num[i]:para_num[i+1]]\n",
    "        else:\n",
    "            IW=pop[para_num[2*i-1]:para_num[2*i]]\n",
    "            b=pop[para_num[2*i]:para_num[2*i+1]]\n",
    "        \n",
    "        if nodes[i]>=nodes[i+1]:\n",
    "            Net.elmae[i]['w']=spy.linalg.orth(IW.reshape(nodes[i],nodes[i+1]))\n",
    "        else:\n",
    "            Net.elmae[i]['w']=spy.linalg.orth(IW.reshape(nodes[i],nodes[i+1]).T).T\n",
    "        Net.elmae[i]['b']=spy.linalg.orth(b.reshape(-1,1))\n",
    "\n",
    "\n",
    "        \n",
    "    Net.pretrain(P)\n",
    "    Net.train(P,T)\n",
    "    output=Net.predict(Pt)\n",
    "    output1=output.reshape(-1,)\n",
    "    Tt1=Tt.reshape(-1,)\n",
    "    fit=np.mean(np.square(output1-Tt1))\n",
    "    \n",
    "    return fit"
   ]
  },
  {
   "cell_type": "code",
   "execution_count": 11,
   "id": "9bf6cd3c",
   "metadata": {
    "ExecuteTime": {
     "end_time": "2023-02-25T08:28:06.338568Z",
     "start_time": "2023-02-25T08:28:05.086285Z"
    },
    "scrolled": true
   },
   "outputs": [
    {
     "name": "stdout",
     "output_type": "stream",
     "text": [
      "1 : 0.895683060916813\n",
      "2 : 0.8936819839046138\n",
      "3 : 0.8936819839046138\n",
      "4 : 0.8936819839046138\n",
      "5 : 0.8936819839046138\n",
      "6 : 0.8936819839046138\n",
      "7 : 0.8936819839046138\n",
      "8 : 0.8936819839046138\n",
      "9 : 0.8936819839046138\n",
      "10 : 0.8936819839046138\n",
      "11 : 0.8936819839046138\n",
      "12 : 0.8936819839046138\n",
      "13 : 0.8936819839046138\n",
      "14 : 0.8936819839046138\n",
      "15 : 0.8936819839046138\n",
      "16 : 0.8936819839046138\n",
      "17 : 0.8936819839046138\n",
      "18 : 0.8936819839046138\n",
      "19 : 0.8936819839046138\n",
      "20 : 0.8936819839046138\n",
      "21 : 0.8936819839046138\n",
      "22 : 0.8936819839046138\n",
      "23 : 0.8936819839046138\n",
      "24 : 0.8936819839046138\n",
      "25 : 0.8936819839046138\n",
      "26 : 0.8936819839046138\n",
      "27 : 0.8936819839046138\n",
      "28 : 0.8936819839046138\n",
      "29 : 0.8936819839046138\n",
      "30 : 0.8936819839046138\n",
      "31 : 0.8936819839046138\n",
      "32 : 0.8936819839046138\n",
      "33 : 0.8936819839046138\n",
      "34 : 0.8936819839046138\n",
      "35 : 0.8936819839046138\n",
      "36 : 0.8936819839046138\n",
      "37 : 0.8936819839046138\n",
      "38 : 0.8936819839046138\n",
      "39 : 0.8936819839046138\n",
      "40 : 0.8936819839046138\n",
      "41 : 0.8936819839046138\n",
      "42 : 0.8936819839046138\n",
      "43 : 0.8936819839046138\n",
      "44 : 0.8936819839046138\n",
      "45 : 0.8936819839046138\n",
      "46 : 0.8936819839046138\n",
      "47 : 0.8936819839046138\n",
      "48 : 0.8936819839046138\n",
      "49 : 0.8936819839046138\n",
      "50 : 0.8936819839046138\n",
      "51 : 0.8936819839046138\n",
      "52 : 0.8936819839046138\n",
      "53 : 0.8936819839046138\n",
      "54 : 0.8936819839046138\n",
      "55 : 0.8936819839046138\n",
      "56 : 0.8936819839046138\n",
      "57 : 0.8936819839046138\n",
      "58 : 0.8936819839046138\n",
      "59 : 0.8936819839046138\n",
      "60 : 0.8936819839046138\n",
      "61 : 0.8936819839046138\n",
      "62 : 0.8936819839046138\n",
      "63 : 0.8936819839046138\n",
      "64 : 0.8936819839046138\n",
      "65 : 0.8936819839046138\n",
      "66 : 0.8936819839046138\n",
      "67 : 0.8936819839046138\n",
      "68 : 0.8936819839046138\n",
      "69 : 0.8936819839046138\n",
      "70 : 0.8936819839046138\n",
      "71 : 0.8936819839046138\n",
      "72 : 0.8936819839046138\n",
      "73 : 0.8936819839046138\n",
      "74 : 0.8936819839046138\n",
      "75 : 0.8936819839046138\n",
      "76 : 0.8936819839046138\n",
      "77 : 0.8936819839046138\n",
      "78 : 0.8936819839046138\n",
      "79 : 0.8936819839046138\n",
      "80 : 0.8936819839046138\n",
      "81 : 0.8936819839046138\n",
      "82 : 0.8936819839046138\n",
      "83 : 0.8936819839046138\n",
      "84 : 0.8936819839046138\n",
      "85 : 0.8936819839046138\n",
      "86 : 0.8936819839046138\n",
      "87 : 0.8936819839046138\n",
      "88 : 0.8936819839046138\n",
      "89 : 0.8936819839046138\n",
      "90 : 0.8936819839046138\n",
      "91 : 0.8936819839046138\n",
      "92 : 0.8936819839046138\n",
      "93 : 0.8936819839046138\n",
      "94 : 0.8936819839046138\n",
      "95 : 0.8936819839046138\n",
      "96 : 0.8936819839046138\n",
      "97 : 0.8936819839046138\n",
      "98 : 0.8936819839046138\n",
      "99 : 0.8936819839046138\n",
      "100 : 0.8936819839046138\n"
     ]
    },
    {
     "data": {
      "text/plain": [
       "Text(0.5, 0, 'iteration')"
      ]
     },
     "execution_count": 11,
     "metadata": {},
     "output_type": "execute_result"
    },
    {
     "data": {
      "image/png": "[encoded data removed]",
      "text/plain": [
       "<Figure size 432x288 with 1 Axes>"
      ]
     },
     "metadata": {
      "needs_background": "light"
     },
     "output_type": "display_data"
    }
   ],
   "source": [
    "# In[] 参数设置\n",
    "hidden_sizes = [1]  #几个数就是几个隐含层，n个隐含层各自的节点就是[n1;n2;n3;n4;....nn]\n",
    "input_size = train_X.shape[1] #输入层节点数\n",
    "output_size= train_y.shape[1]#输出层节点数\n",
    "C=np.inf#L2正则化系数\n",
    "TF='sin'#激活函数\n",
    "opts={'hidden_sizes':hidden_sizes,'input_size':input_size,'output_size':output_size,'C':C,'TF':TF}\n",
    "pop,trace=PSO(opts,train_X,train_y,test_X, test_y)\n",
    "plt.figure()\n",
    "plt.plot(trace)\n",
    "plt.title('fitness curve')\n",
    "plt.ylabel('fitness value/error')\n",
    "plt.xlabel('iteration')"
   ]
  },
  {
   "cell_type": "code",
   "execution_count": 12,
   "id": "c60a3219",
   "metadata": {
    "ExecuteTime": {
     "end_time": "2023-02-25T08:28:06.384579Z",
     "start_time": "2023-02-25T08:28:06.372576Z"
    }
   },
   "outputs": [],
   "source": [
    "# In[3]: 训练\n",
    "Net = DELM(input_size,hidden_sizes, output_size, C,TF) #construct a delm\n",
    "x=pop.flatten().copy()\n",
    "#对麻雀传人的参数进行解码\n",
    "\n",
    "nodes= [input_size]+hidden_sizes# 输入层与隐含层的节点数\n",
    " \n",
    "nelmae=len(nodes)-1\n",
    "\n",
    "para_num=[]\n",
    "\n",
    "for i in range(nelmae):\n",
    "    if i==0:\n",
    "        para_num += [nodes[i]*nodes[i+1]]\n",
    "    else:\n",
    "        para_num += [para_num[-1]+nodes[i]*nodes[i+1]]\n",
    "    para_num += [para_num[-1]+nodes[i+1]]\n",
    "\n",
    "for i in range(nelmae):\n",
    "    if i==0:\n",
    "        IW=x[0:para_num[i]]\n",
    "        b=x[para_num[i]:para_num[i+1]]\n",
    "    else:\n",
    "        IW=x[para_num[2*i-1]:para_num[2*i]]\n",
    "        b=x[para_num[2*i]:para_num[2*i+1]]\n",
    "    \n",
    "    if nodes[i]>=nodes[i+1]:\n",
    "        Net.elmae[i]['w']=spy.linalg.orth(IW.reshape(nodes[i],nodes[i+1]))\n",
    "    else:\n",
    "        Net.elmae[i]['w']=spy.linalg.orth(IW.reshape(nodes[i],nodes[i+1]).T).T\n",
    "    Net.elmae[i]['b']=spy.linalg.orth(b.reshape(-1,1))"
   ]
  },
  {
   "cell_type": "code",
   "execution_count": 13,
   "id": "ac69a707",
   "metadata": {
    "ExecuteTime": {
     "end_time": "2023-02-25T08:28:07.114744Z",
     "start_time": "2023-02-25T08:28:07.100739Z"
    }
   },
   "outputs": [],
   "source": [
    "Net.pretrain(train_X)#train elmae\n",
    "Net.train(train_X,train_y)#train delm"
   ]
  },
  {
   "cell_type": "code",
   "execution_count": 14,
   "id": "2aef0140",
   "metadata": {
    "ExecuteTime": {
     "end_time": "2023-02-25T08:28:07.574848Z",
     "start_time": "2023-02-25T08:28:07.560844Z"
    }
   },
   "outputs": [],
   "source": [
    "#预测\n",
    "yhat = Net.predict(test_X)\n",
    "yhat=yhat.reshape(-1,1)\n",
    "# 对预测结果进行反归一化\n",
    "inv_yhat = scaler.inverse_transform(yhat)\n",
    "# 将真实列据进行反归一化\n",
    "test_y=test_y.reshape(-1,1)\n",
    "inv_y = scaler.inverse_transform(test_y)"
   ]
  },
  {
   "cell_type": "code",
   "execution_count": 15,
   "id": "6847a89b",
   "metadata": {
    "ExecuteTime": {
     "end_time": "2023-02-25T08:28:08.228995Z",
     "start_time": "2023-02-25T08:28:08.220994Z"
    }
   },
   "outputs": [
    {
     "name": "stdout",
     "output_type": "stream",
     "text": [
      "Test RMSE: 15.5210223\n",
      "Test MAE: 12.4208913\n",
      "Test R2: 0.0218702\n"
     ]
    }
   ],
   "source": [
    "# 计算RMSE\n",
    "rmse = sqrt(mean_squared_error(inv_y, inv_yhat))\n",
    "print('Test RMSE: %.7f' % rmse)\n",
    "print('Test MAE: %.7f' % mean_absolute_error(inv_y, inv_yhat))\n",
    "print('Test R2: %.7f' % r2_score(inv_y, inv_yhat))"
   ]
  },
  {
   "cell_type": "code",
   "execution_count": null,
   "id": "5a9345e8",
   "metadata": {
    "ExecuteTime": {
     "end_time": "2023-02-25T07:33:30.277550Z",
     "start_time": "2023-02-25T07:33:28.673341Z"
    }
   },
   "outputs": [],
   "source": [
    "import seaborn as sns\n",
    "%config InlineBackend.figure_format = 'retina'\n",
    "plt.rcParams['font.sans-serif']=['Simhei']  #解决画图中文不显示问题\n",
    "plt.figure(figsize=(6,4),dpi=600)\n",
    "x=range(1, len(inv_y) + 1)\n",
    "plt.xticks(x[::50])\n",
    "plt.tick_params(labelsize=10)  #改变刻度字体大小\n",
    "plt.plot(x, inv_y, linestyle=\"--\",color='g',linewidth=1, label='Acture')\n",
    "plt.plot(x, inv_yhat,  color='red',linestyle=\"--\",linewidth=1,label='PSO-DELM')\n",
    "plt.rcParams.update({'font.size': 10})  #改变图例里面的字体大小\n",
    "plt.legend(loc='upper right')\n",
    "plt.xlabel(\"样本点\",fontsize=10)\n",
    "plt.ylabel(\"值\",fontsize=10)\n",
    "# plt.xlim(xmin=600,xmax=700)  #显示600-1000的值   局部放大有利于观察\n",
    "# plt.savefig('台湾VMD-LSTM震级预测结果图.png')\n",
    "plt.show()"
   ]
  },
  {
   "cell_type": "code",
   "execution_count": null,
   "id": "4ef5ce0c",
   "metadata": {
    "ExecuteTime": {
     "end_time": "2022-11-15T14:20:47.112880Z",
     "start_time": "2022-11-15T14:20:47.105880Z"
    }
   },
   "outputs": [],
   "source": [
    "#保存预测结果\n",
    "# savemat('pso-delm_result.mat',{'true':inv_y,'pred':inv_yhat})"
   ]
  },
  {
   "cell_type": "code",
   "execution_count": null,
   "id": "96e20b37",
   "metadata": {},
   "outputs": [],
   "source": []
  }
 ],
 "metadata": {
  "kernelspec": {
   "display_name": "Python 3",
   "language": "python",
   "name": "python3"
  },
  "language_info": {
   "codemirror_mode": {
    "name": "ipython",
    "version": 3
   },
   "file_extension": ".py",
   "mimetype": "text/x-python",
   "name": "python",
   "nbconvert_exporter": "python",
   "pygments_lexer": "ipython3",
   "version": "3.8.8"
  }
 },
 "nbformat": 4,
 "nbformat_minor": 5
}
