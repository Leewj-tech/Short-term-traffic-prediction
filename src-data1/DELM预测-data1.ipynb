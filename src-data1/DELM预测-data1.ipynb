{
 "cells": [
  {
   "cell_type": "code",
   "execution_count": 1,
   "id": "00210baf",
   "metadata": {
    "ExecuteTime": {
     "end_time": "2023-02-25T07:55:31.446224Z",
     "start_time": "2023-02-25T07:55:29.273734Z"
    }
   },
   "outputs": [],
   "source": [
    "# 调用相关库\n",
    "import os\n",
    "\n",
    "os.environ['TF_CPP_MIN_LOG_LEVEL'] = '2'\n",
    "import pandas as pd\n",
    "from math import sqrt\n",
    "import random\n",
    "from numpy import concatenate\n",
    "import matplotlib.pyplot as plt\n",
    "import numpy as np\n",
    "from sklearn.metrics import r2_score\n",
    "import scipy as spy\n",
    "from sklearn.preprocessing import MinMaxScaler\n",
    "from sklearn.preprocessing import StandardScaler\n",
    "from sklearn.preprocessing import LabelEncoder\n",
    "from sklearn.metrics import mean_squared_error\n",
    "from sklearn.metrics import mean_squared_error, mean_absolute_error\n",
    "from pandas import DataFrame\n",
    "from pandas import concat\n",
    "import numpy\n",
    "from scipy.io import savemat,loadmat\n",
    "import os\n",
    "from sklearn.svm import SVR  \n",
    "from scipy.spatial.distance import cdist\n",
    "from numpy import dot, exp"
   ]
  },
  {
   "cell_type": "code",
   "execution_count": 2,
   "id": "3597a7f9",
   "metadata": {
    "ExecuteTime": {
     "end_time": "2023-02-25T07:55:31.462228Z",
     "start_time": "2023-02-25T07:55:31.447225Z"
    }
   },
   "outputs": [],
   "source": [
    "class DELM(object):\n",
    "\n",
    "    def __init__(self, input_size,hidden_sizes,output_size,C,TF):\n",
    "        # 初始化\n",
    "        '''\n",
    "            input_size:输入层节点数\n",
    "            hidden_sizes:各隐含层节点数，也是各elm-ae的隐含层节点数\n",
    "            output_size:输出层节点数\n",
    "            C ： L2 正则化系数\n",
    "            TF： 激活函数\n",
    "        '''\n",
    "        self._sizes = hidden_sizes\n",
    "        self._l2penalty=C\n",
    "        self.TF=TF \n",
    "        self.elmae=[]\n",
    "        self.w=[]\n",
    "        \n",
    "        for i,size in enumerate(self._sizes + [output_size]):\n",
    "            \n",
    "            # 采样正交随机数进行网络权重初始化\n",
    "            \n",
    "            if input_size>=size:\n",
    "                IW=spy.linalg.orth(np.random.rand(input_size,size)*2-1)\n",
    "            else:\n",
    "                IW=(np.random.rand(input_size,size)*2-1).T\n",
    "                IW=spy.linalg.orth(IW).T\n",
    "            # bias\n",
    "            B=spy.linalg.orth(np.random.rand(size,1)*2-1)\n",
    "            \n",
    "            self.w.append(IW)\n",
    "            \n",
    "            if i< len(self._sizes + [output_size])-1:\n",
    "                weight={'w':IW,'b':B}\n",
    "                self.elmae.append(weight)\n",
    "            \n",
    "            input_size = size\n",
    "    #无监督预训练各个ELM-AE\n",
    "    def pretrain(self,X):\n",
    "        self.elm_ae_weigth_list=[]#保存训练好的elmae的输出层权重 ，用于DELM初始化\n",
    "        nsample=X.shape[0]\n",
    "        for i in range(len(self.elmae)):\n",
    "            IW=self.elmae[i]['w']\n",
    "            B=self.elmae[i]['b']\n",
    "            \n",
    "            bias_matrix=np.tile(B,nsample).T\n",
    "            \n",
    "            tempH = np.dot(X,IW)+bias_matrix\n",
    "            \n",
    "            if self.TF=='sigmoid':\n",
    "                H = 1. / (1. + np.exp(-tempH))\n",
    "                \n",
    "            elif self.TF=='sin':\n",
    "                H=np.sin(tempH)\n",
    "            # cal the output weights by least square method\n",
    "            interval=(np.dot(H.T,H)+np.eye(IW.shape[1])/self._l2penalty)\n",
    "            beta = np.dot(np.dot(np.linalg.pinv(interval) ,H.T),X)\n",
    "            \n",
    "            \n",
    "            W=np.linalg.pinv(beta)\n",
    "            # W = beta.T\n",
    "            self.elm_ae_weigth_list.append(W)\n",
    "            X=X.dot(W)\n",
    "#                \n",
    "    # 将训练好的elm-ae的输出层权重用于初始化delm\n",
    "    def load_from_elm_aes(self):\n",
    "        for i in range(len(self._sizes)):\n",
    "            self.w[i] = self.elm_ae_weigth_list[i]\n",
    "        \n",
    "    # Training delm\n",
    "    def train(self,X,Y):\n",
    "        self.load_from_elm_aes()#注释掉这句 就不会采用训练好的elm-ae输出层权重对delm进行初始化\n",
    "        \n",
    "        \n",
    "        H=[]\n",
    "        input_=X\n",
    "        a=len(self._sizes)\n",
    "        \n",
    "        for i in range(a):\n",
    "            H=np.dot(input_,self.w[i])\n",
    "            input_=H\n",
    "\n",
    "        interval=np.dot(H.T,H)+np.eye(H.shape[1])/self._l2penalty\n",
    "        \n",
    "        beta = np.dot(np.dot(np.linalg.pinv(interval) ,H.T),Y)\n",
    "        \n",
    "        self.w[-1]=beta\n",
    "        \n",
    "    def predict(self,teX):\n",
    "        H=[]\n",
    "        input_=teX\n",
    "        a=len(self.w)\n",
    "        \n",
    "        for i in range(a):\n",
    "            H=np.dot(input_,self.w[i])\n",
    "            input_=H\n",
    "        return H"
   ]
  },
  {
   "cell_type": "code",
   "execution_count": 3,
   "id": "3014098f",
   "metadata": {
    "ExecuteTime": {
     "end_time": "2023-02-25T07:55:31.478231Z",
     "start_time": "2023-02-25T07:55:31.464229Z"
    }
   },
   "outputs": [],
   "source": [
    "# 转换成监督数据，将每个特征转换成21列数据，20->1，20组预测一组\n",
    "def series_to_supervised(data, n_in=20, n_out=1, dropnan=True):\n",
    "    n_vars = 1 if type(data) is list else data.shape[1]  #计算特征的数量\n",
    "    df = pd.DataFrame(data)\n",
    "    cols, names = list(), list()\n",
    "    # input sequence (t-n, ... t-1)\n",
    "    # 将20组输入数据依次向下移动20,19,...3,2,1行，将数据加入cols列表（技巧：(n_in, 0, -1)中的-1指倒序循环，步长为1）\n",
    "    for i in range(n_in, 0, -1):\n",
    "        cols.append(df.shift(i))\n",
    "        names += [('var%d(t-%d)' % (j+1, i)) for j in range(n_vars)]\n",
    "    # forecast sequence (t, t+1, ... t+n)\n",
    "    # 将一组输出数据加入cols列表（技巧：其中i=0）\n",
    "    for i in range(0, n_out):\n",
    "        cols.append(df.shift(-i))\n",
    "        if i == 0:\n",
    "            names += [('var%d(t)' % (j+1)) for j in range(n_vars)]\n",
    "        else:\n",
    "            names += [('var%d(t+%d)' % (j+1, i)) for j in range(n_vars)]\n",
    "    # cols列表(list)中现在有21块经过下移后的数据(即：df(-20),df(-19),...df(-2),df(-1),df)，将四块数据按列 并排合并\n",
    "    agg = pd.concat(cols, axis=1)\n",
    "    # 给合并后的数据添加列名\n",
    "    agg.columns = names\n",
    "    # print(agg)\n",
    "    # 删除NaN值列\n",
    "    if dropnan:\n",
    "        agg.dropna(inplace=True)\n",
    "    return agg"
   ]
  },
  {
   "cell_type": "code",
   "execution_count": 4,
   "id": "0be487a9",
   "metadata": {
    "ExecuteTime": {
     "end_time": "2023-02-25T07:55:32.002350Z",
     "start_time": "2023-02-25T07:55:31.480232Z"
    }
   },
   "outputs": [],
   "source": [
    "values=pd.read_csv('train.csv').values[:5000,-1]\n",
    "values=values.reshape(-1,1)\n",
    "n_features=1 #特征数量"
   ]
  },
  {
   "cell_type": "code",
   "execution_count": 5,
   "id": "f534ac42",
   "metadata": {
    "ExecuteTime": {
     "end_time": "2023-02-25T07:55:32.017353Z",
     "start_time": "2023-02-25T07:55:32.003351Z"
    }
   },
   "outputs": [],
   "source": [
    "# 标准化\n",
    "scaler =StandardScaler()\n",
    "scaled = scaler.fit_transform(values)\n"
   ]
  },
  {
   "cell_type": "code",
   "execution_count": 6,
   "id": "a800dfce",
   "metadata": {
    "ExecuteTime": {
     "end_time": "2023-02-25T07:55:32.538476Z",
     "start_time": "2023-02-25T07:55:32.507469Z"
    }
   },
   "outputs": [],
   "source": [
    "n_in = 3\n",
    "n_out = 1\n",
    "# 构造一个20->1的监督学习型数据\n",
    "reframed = series_to_supervised(scaled, n_in=n_in, n_out=n_out)\n",
    "values=reframed.values"
   ]
  },
  {
   "cell_type": "code",
   "execution_count": 7,
   "id": "631e724f",
   "metadata": {
    "ExecuteTime": {
     "end_time": "2023-02-25T07:55:33.378666Z",
     "start_time": "2023-02-25T07:55:33.361662Z"
    }
   },
   "outputs": [
    {
     "name": "stdout",
     "output_type": "stream",
     "text": [
      "(3997, 3) (3997,) (1000, 3) (1000,)\n"
     ]
    }
   ],
   "source": [
    "#训练集和测试集的划分比例\n",
    "ratio=0.8 \n",
    "N=int(len(values) *ratio)\n",
    "train = values[:N, :]\n",
    "test = values[N:, :]\n",
    "\n",
    "# 划分输入和输出,split into input and outputs\n",
    "n_obs = n_in * n_features\n",
    "train_X, train_y = train[:, :-1], train[:, -1]\n",
    "test_X, test_y = test[:, :-1], test[:, -1]\n",
    "print(train_X.shape, train_y.shape, test_X.shape, test_y.shape)"
   ]
  },
  {
   "cell_type": "code",
   "execution_count": 8,
   "id": "a78356b3",
   "metadata": {
    "ExecuteTime": {
     "end_time": "2023-02-25T07:55:34.014810Z",
     "start_time": "2023-02-25T07:55:34.000807Z"
    }
   },
   "outputs": [
    {
     "data": {
      "text/plain": [
       "(3997, 1)"
      ]
     },
     "execution_count": 8,
     "metadata": {},
     "output_type": "execute_result"
    }
   ],
   "source": [
    "train_y=train_y.reshape(-1,1)\n",
    "train_y.shape"
   ]
  },
  {
   "cell_type": "code",
   "execution_count": 33,
   "id": "cd4bdf36",
   "metadata": {
    "ExecuteTime": {
     "end_time": "2023-02-25T07:56:13.036941Z",
     "start_time": "2023-02-25T07:56:13.033940Z"
    }
   },
   "outputs": [],
   "source": [
    "# In[] 参数设置\n",
    "hidden_sizes = [8,5]  #几个数就是几个隐含层，n个隐含层各自的节点就是[n1;n2;n3;n4;....nn]\n",
    "input_size = train_X.shape[1] #输入层节点数\n",
    "output_size= train_y.shape[1]#输出层节点数\n",
    "C=np.inf #L2正则化系数\n",
    "TF='sigmoid'#激活函数       \"sig\""
   ]
  },
  {
   "cell_type": "code",
   "execution_count": 34,
   "id": "9bf6cd3c",
   "metadata": {
    "ExecuteTime": {
     "end_time": "2023-02-25T07:56:13.341008Z",
     "start_time": "2023-02-25T07:56:13.324005Z"
    }
   },
   "outputs": [],
   "source": [
    "# In[3]: 训练\n",
    "Net = DELM(input_size,hidden_sizes, output_size, C,TF) #construct a delm\n",
    "Net.pretrain(train_X)#train elmae\n",
    "Net.train(train_X,train_y)#train delm"
   ]
  },
  {
   "cell_type": "code",
   "execution_count": 35,
   "id": "c4555ccb",
   "metadata": {
    "ExecuteTime": {
     "end_time": "2023-02-25T07:56:13.673084Z",
     "start_time": "2023-02-25T07:56:13.667083Z"
    }
   },
   "outputs": [],
   "source": [
    "#预测\n",
    "yhat = Net.predict(test_X)\n",
    "yhat=yhat.reshape(-1,1)\n",
    "# 对预测结果进行反归一化\n",
    "inv_yhat = scaler.inverse_transform(yhat)\n",
    "# 将真实列据进行反归一化\n",
    "test_y=test_y.reshape(-1,1)\n",
    "inv_y = scaler.inverse_transform(test_y)"
   ]
  },
  {
   "cell_type": "code",
   "execution_count": 36,
   "id": "6847a89b",
   "metadata": {
    "ExecuteTime": {
     "end_time": "2023-02-25T07:56:14.087178Z",
     "start_time": "2023-02-25T07:56:14.082177Z"
    },
    "scrolled": true
   },
   "outputs": [
    {
     "name": "stdout",
     "output_type": "stream",
     "text": [
      "Test RMSE: 15.5769520\n",
      "Test MAE: 12.4538736\n",
      "Test R2: 0.0148082\n"
     ]
    }
   ],
   "source": [
    "# 计算RMSE\n",
    "rmse = sqrt(mean_squared_error(inv_y, inv_yhat))\n",
    "print('Test RMSE: %.7f' % rmse)\n",
    "print('Test MAE: %.7f' % mean_absolute_error(inv_y, inv_yhat))\n",
    "print('Test R2: %.7f' % r2_score(inv_y, inv_yhat))"
   ]
  },
  {
   "cell_type": "code",
   "execution_count": null,
   "id": "286467c8",
   "metadata": {
    "ExecuteTime": {
     "end_time": "2022-11-16T01:29:31.808692Z",
     "start_time": "2022-11-16T01:29:30.294636Z"
    }
   },
   "outputs": [],
   "source": [
    "import seaborn as sns\n",
    "%config InlineBackend.figure_format = 'retina'\n",
    "plt.rcParams['font.sans-serif']=['Simhei']  #解决画图中文不显示问题\n",
    "plt.figure(figsize=(6,4),dpi=600)\n",
    "x=range(1, len(inv_y) + 1)\n",
    "plt.xticks(x[::50])\n",
    "plt.tick_params(labelsize=10)  #改变刻度字体大小\n",
    "plt.plot(x, inv_y, linestyle=\"--\",color='g',linewidth=1, label='Acture')\n",
    "plt.plot(x, inv_yhat,  color='red',linestyle=\"--\",linewidth=1,label='DELM')\n",
    "plt.rcParams.update({'font.size': 10})  #改变图例里面的字体大小\n",
    "plt.legend(loc='upper right')\n",
    "plt.xlabel(\"样本点\",fontsize=10)\n",
    "plt.ylabel(\"值\",fontsize=10)\n",
    "# plt.xlim(xmin=600,xmax=700)  #显示600-1000的值   局部放大有利于观察\n",
    "# plt.savefig('台湾VMD-LSTM震级预测结果图.png')\n",
    "plt.show()"
   ]
  },
  {
   "cell_type": "code",
   "execution_count": null,
   "id": "4ef5ce0c",
   "metadata": {
    "ExecuteTime": {
     "end_time": "2022-11-16T01:29:31.823695Z",
     "start_time": "2022-11-16T01:29:31.810694Z"
    }
   },
   "outputs": [],
   "source": [
    "#保存预测结果\n",
    "savemat('delm_result.mat',{'true':inv_y,'pred':inv_yhat})"
   ]
  },
  {
   "cell_type": "code",
   "execution_count": null,
   "id": "1d19f05e",
   "metadata": {},
   "outputs": [],
   "source": []
  }
 ],
 "metadata": {
  "kernelspec": {
   "display_name": "Python 3",
   "language": "python",
   "name": "python3"
  },
  "language_info": {
   "codemirror_mode": {
    "name": "ipython",
    "version": 3
   },
   "file_extension": ".py",
   "mimetype": "text/x-python",
   "name": "python",
   "nbconvert_exporter": "python",
   "pygments_lexer": "ipython3",
   "version": "3.8.8"
  }
 },
 "nbformat": 4,
 "nbformat_minor": 5
}